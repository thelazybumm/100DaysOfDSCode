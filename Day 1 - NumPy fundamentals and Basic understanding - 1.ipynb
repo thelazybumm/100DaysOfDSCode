{
 "cells": [
  {
   "cell_type": "code",
   "execution_count": null,
   "metadata": {},
   "outputs": [],
   "source": [
    "Introdution to Numpy:\n",
    "#prerequistes--> Fundamentals of Python programming\n",
    "\n",
    "Lets dive right in with understanding the basics of Numpy, Assuming you are familiar with python programming.\n",
    "\n",
    "Numpy is most commonly used Library for Numerical operations/Scientific computations. Its like a major library with similar\n",
    "importance given to Pandas, Matplotlib, Scikit-Learn etc. Lets just focus on Numpy for now then we can check out the rest later.\n",
    "So Numpy.. How do you use it?Lets Understand the below problem statement."
   ]
  },
  {
   "cell_type": "code",
   "execution_count": null,
   "metadata": {},
   "outputs": [],
   "source": [
    "Consider a list--> \n",
    "lst=[5,10,15,20,100]\n",
    "\n",
    "Problem statement - add element with 5 in the above list\n",
    "#expected output\n",
    "\n",
    "lst=[10,15,20,25,105]\n",
    "\n",
    "So how to do you it ?\n",
    "Classic solution to this will be to pick each element out and add 5 to it and then append it in a new list. Pretty boring\n",
    "way of doing it. With Numpy this becomes easier."
   ]
  },
  {
   "cell_type": "code",
   "execution_count": 2,
   "metadata": {},
   "outputs": [
    {
     "name": "stdout",
     "output_type": "stream",
     "text": [
      "[ 10  15  20  25 105]\n"
     ]
    }
   ],
   "source": [
    " #Run the following code\n",
    "    \n",
    "import numpy as np\n",
    "lst=[5,10,15,20,100]\n",
    "arr=np.array(lst)\n",
    "print(arr + 5)\n",
    "\n",
    "#expected output\n",
    "#lst=[10,15,20,25,105]"
   ]
  },
  {
   "cell_type": "code",
   "execution_count": null,
   "metadata": {},
   "outputs": [],
   "source": [
    "NumPy supports vectorized operations such as elements addition, subtraction etc, which is not the case with basic lists.\n",
    "Lets see few more examples of basic NumPy operations."
   ]
  },
  {
   "cell_type": "code",
   "execution_count": 4,
   "metadata": {},
   "outputs": [
    {
     "name": "stdout",
     "output_type": "stream",
     "text": [
      "<class 'numpy.str_'> <class 'numpy.str_'> <class 'numpy.str_'>\n"
     ]
    }
   ],
   "source": [
    "#Run the following code\n",
    "\n",
    "lst = [1, 2, 3, 'text', True, 3+2j]\n",
    "arr=np.array(lst)\n",
    "print(type(arr[0]),type(arr[4]), type(arr[5]))\n",
    "\n",
    "#expected output\n",
    "#<class 'numpy.str_'> <class 'numpy.str_'> <class 'numpy.str_'>"
   ]
  },
  {
   "cell_type": "code",
   "execution_count": null,
   "metadata": {},
   "outputs": [],
   "source": [
    "Explanation for the the above problem it that a heterogeneous python inbuilt list is comparatively slow to process as \n",
    "compared with NumPy nd-array because of the fact that Python has to store type information for each element and accordingly have\n",
    "to take extra time while operating on each element.\n",
    "However, NumPy array works with a similar datatype and hence show a significant boost in the processing time.\n",
    "\n",
    "Lets see another easy understanding usage of NumPy."
   ]
  },
  {
   "cell_type": "code",
   "execution_count": null,
   "metadata": {},
   "outputs": [],
   "source": [
    "Now lets say I want to find out the byte size of the bellow list. \n",
    "\n",
    "lst = [56, 45, 12, 6]\n"
   ]
  },
  {
   "cell_type": "code",
   "execution_count": 5,
   "metadata": {},
   "outputs": [
    {
     "name": "stdout",
     "output_type": "stream",
     "text": [
      "16\n"
     ]
    }
   ],
   "source": [
    "# Run the following code\n",
    "\n",
    "lst = [56, 45, 12, 6]\n",
    "arr = np.array(lst)\n",
    "print(arr.nbytes)\n",
    "\n",
    "#expected output: 16"
   ]
  },
  {
   "cell_type": "code",
   "execution_count": null,
   "metadata": {},
   "outputs": [],
   "source": [
    "Python list usually have high memory size due to storing information for each pointer as well as to an object they are\n",
    "pointing to. But with NumPy array stores uniform values. Uniform as in remaining the same in all cases and distinctive.\n",
    "\n",
    "Lets try to dive in more with NumPy array to understand its usage as part of Python's Library."
   ]
  },
  {
   "cell_type": "code",
   "execution_count": null,
   "metadata": {},
   "outputs": [],
   "source": [
    "NumPy object creation:-\n",
    "\n",
    "The calculations using NumPy are performed using nd-array object which can take any number of dimensions. \n",
    "Most commonly used NumPy nd-array is a matrix which takes 2 dimensions.\n",
    "\n",
    "Array Creation:-\n",
    "\n",
    "A NumPy nd-array inputs a basic Python list as an argument along with an explicit datatype (for typecasting) as shown below:"
   ]
  },
  {
   "cell_type": "code",
   "execution_count": 9,
   "metadata": {},
   "outputs": [
    {
     "name": "stdout",
     "output_type": "stream",
     "text": [
      "[2 5 6 8]\n",
      "<class 'numpy.ndarray'>\n",
      "int32\n",
      "float64\n",
      "int32\n"
     ]
    }
   ],
   "source": [
    "# Run the following Code\n",
    "\n",
    "arr = np.array([2,5,6,8], dtype = int)\n",
    "arr1 = np.array([2,5,6,8], dtype = float)\n",
    "arr2 = np.array([2,5,6,8])\n",
    "print(arr)\n",
    "\n",
    "# [2 5 6 8]\n",
    "\n",
    "print(type(arr))\n",
    "\n",
    "# class 'numpy.ndarray'\n",
    "\n",
    "print(np.result_type(arr))\n",
    "print(np.result_type(arr1))\n",
    "print(np.result_type(arr2))\n",
    "\n",
    "# int32 \n",
    "# float64\n",
    "# int32"
   ]
  },
  {
   "cell_type": "code",
   "execution_count": null,
   "metadata": {},
   "outputs": [],
   "source": [
    "Here we have used np.array() functions which takes one-two arguements, The input lists and the corresponding datatype. To check\n",
    "the datatype of the particular NumPy object we have used np.result_type() command.\n",
    "\n",
    "Most of the time, it is not an intuitive way to pass a list of predefined components. So to counter this, NumPy offers some\n",
    "commonly used functions to create NumPy object as shown below:"
   ]
  },
  {
   "cell_type": "code",
   "execution_count": 24,
   "metadata": {},
   "outputs": [
    {
     "name": "stdout",
     "output_type": "stream",
     "text": [
      "[0.  1.5 3.  4.5 6.  7.5 9. ]\n",
      "[0.   1.33 2.66 3.99 5.32 6.65 7.98 9.31]\n",
      "[  0 125 250 375 500]\n",
      "[100 200 300 400 500]\n"
     ]
    }
   ],
   "source": [
    "#Run the Following code\n",
    "\n",
    "#Display a array with 0-10 with the step size of 1.5\n",
    "\n",
    "print(np.arange(0,10,1.5,dtype = float))\n",
    "print(np.arange(0,10,1.33,dtype = np.float64))\n",
    "\n",
    "#arange gives the gives the values from expection start value to end value -- arange(start,end,step)\n",
    "\n",
    "print(np.linspace(0,500,5,dtype = int))\n",
    "print(np.linspace(100,500,5,dtype = np.int32))\n",
    "\n",
    "#similarly, linspace gives values from expected start value to end value but instead of step, it gives total number of values\n",
    "#to be displayed --- linspace(start,end,total.no.of.values)\n"
   ]
  },
  {
   "cell_type": "code",
   "execution_count": null,
   "metadata": {},
   "outputs": [],
   "source": [
    "Now lets understand the basic concepts on Matrix creation:\n",
    "\n",
    "There are a few ways to create a Matrix using NumPy.\n",
    "1. Use NumPy array to form a Matrix\n",
    "2. Use NumPy's inbuilt matrix function\n",
    "3. Use misc. Functions like zeros(), ones() etc."
   ]
  },
  {
   "cell_type": "code",
   "execution_count": 50,
   "metadata": {},
   "outputs": [
    {
     "name": "stdout",
     "output_type": "stream",
     "text": [
      "[[3 4 6]\n",
      " [7 8 9]]\n",
      "[[1 5]\n",
      " [3 8]]\n",
      "[[0. 0. 0.]\n",
      " [0. 0. 0.]\n",
      " [0. 0. 0.]\n",
      " [0. 0. 0.]]\n",
      "[[0 0 0]\n",
      " [0 0 0]\n",
      " [0 0 0]\n",
      " [0 0 0]]\n",
      "[[1. 0. 0. 0.]\n",
      " [0. 1. 0. 0.]\n",
      " [0. 0. 1. 0.]\n",
      " [0. 0. 0. 1.]]\n",
      "[[1 0 0 0]\n",
      " [0 1 0 0]\n",
      " [0 0 1 0]\n",
      " [0 0 0 1]]\n",
      "[[1. 1. 1.]\n",
      " [1. 1. 1.]\n",
      " [1. 1. 1.]\n",
      " [1. 1. 1.]]\n",
      "[[1 1 1]\n",
      " [1 1 1]\n",
      " [1 1 1]\n",
      " [1 1 1]]\n"
     ]
    }
   ],
   "source": [
    "#Run the following code\n",
    "#Method 1 --- array to form a matrix\n",
    "\n",
    "print(np.array([3,4,6,7,8,9]).reshape(2,3))\n",
    "\n",
    "#Method 2 --- inbuilt matrix function\n",
    "\n",
    "print(np.matrix([[1,5],[3,8]]))\n",
    "\n",
    "#Method 3 --- misc. functions\n",
    "\n",
    "print(np.zeros((4,3)))\n",
    "print(np.zeros((4,3), dtype = np.int32))\n",
    "\n",
    "print(np.eye(4)) #identity matrix\n",
    "print(np.eye((4), dtype = np.int32))\n",
    "\n",
    "print(np.ones((4,3)))\n",
    "print(np.ones((4,3), dtype = np.int32))\n",
    "\n",
    "\n"
   ]
  },
  {
   "cell_type": "code",
   "execution_count": null,
   "metadata": {},
   "outputs": [],
   "source": []
  }
 ],
 "metadata": {
  "kernelspec": {
   "display_name": "Python 3",
   "language": "python",
   "name": "python3"
  },
  "language_info": {
   "codemirror_mode": {
    "name": "ipython",
    "version": 3
   },
   "file_extension": ".py",
   "mimetype": "text/x-python",
   "name": "python",
   "nbconvert_exporter": "python",
   "pygments_lexer": "ipython3",
   "version": "3.6.5"
  }
 },
 "nbformat": 4,
 "nbformat_minor": 2
}
