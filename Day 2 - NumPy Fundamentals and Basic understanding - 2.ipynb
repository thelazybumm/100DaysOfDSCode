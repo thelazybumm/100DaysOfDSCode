{
 "cells": [
  {
   "cell_type": "code",
   "execution_count": null,
   "metadata": {},
   "outputs": [],
   "source": [
    "Day 2 - NumPy Fundamentals and Basic Understanding - 2\n",
    "\n",
    "We saw a few examples of the use cases of the NumPy and its commands and functions.\n",
    "Before we dig deeper, let's do a recap with a random program.\n"
   ]
  },
  {
   "cell_type": "code",
   "execution_count": 14,
   "metadata": {},
   "outputs": [
    {
     "name": "stdout",
     "output_type": "stream",
     "text": [
      "[16  9  2 84 30 50]\n",
      "[ 13   0  80  16 163  12]\n",
      "[[ 67.-0.j  59.+0.j  98.-0.j]\n",
      " [117.+0.j 890.-0.j 121.+0.j]]\n",
      "[[ 67.-0.j  59.+0.j  98.-0.j]\n",
      " [117.+0.j 890.-0.j 121.+0.j]]\n"
     ]
    }
   ],
   "source": [
    "#Run the following Code\n",
    "import numpy as np\n",
    "\n",
    "arr1=[25, 56, 12, 85, 34, 75]\n",
    "arr2=[42, 3, 86, 32, 856, 46]\n",
    "\n",
    "mat_arr1=np.array(arr1, dtype=complex).reshape(2,3)\n",
    "mat_arr2=np.array(arr2, dtype=complex).reshape(2,3)\n",
    "\n",
    "Narr1 = np.random.randint((np.array(arr1))) #generates a random array with similar values as arr1 list\n",
    "Narr2 = np.random.randint((np.array(arr2))) #random.randint generates integers randomly everytime it has ran\n",
    "\n",
    "print(Narr1)\n",
    "print(Narr2)\n",
    "\n",
    "\n",
    "result1= (np.square(mat_arr1)-np.square(mat_arr2))/(mat_arr1-mat_arr2) #np.square squares up the array\n",
    "result2=(mat_arr1+mat_arr2)*(mat_arr1-mat_arr2)/(mat_arr1-mat_arr2) # simplifying the equation a^2-b^2/a-b\n",
    "\n",
    "print(result1)\n",
    "print(result2)"
   ]
  },
  {
   "cell_type": "code",
   "execution_count": null,
   "metadata": {},
   "outputs": [],
   "source": []
  }
 ],
 "metadata": {
  "kernelspec": {
   "display_name": "Python 3",
   "language": "python",
   "name": "python3"
  },
  "language_info": {
   "codemirror_mode": {
    "name": "ipython",
    "version": 3
   },
   "file_extension": ".py",
   "mimetype": "text/x-python",
   "name": "python",
   "nbconvert_exporter": "python",
   "pygments_lexer": "ipython3",
   "version": "3.6.5"
  }
 },
 "nbformat": 4,
 "nbformat_minor": 2
}
