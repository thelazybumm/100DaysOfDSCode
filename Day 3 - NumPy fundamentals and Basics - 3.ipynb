{
 "cells": [
  {
   "cell_type": "code",
   "execution_count": null,
   "metadata": {},
   "outputs": [],
   "source": [
    "Lets find out the cummulative sum using NumPy"
   ]
  },
  {
   "cell_type": "code",
   "execution_count": 3,
   "metadata": {},
   "outputs": [
    {
     "name": "stdout",
     "output_type": "stream",
     "text": [
      "[[ 2  7 13 18]\n",
      " [ 4 12 18 23]]\n",
      "[[ 2  5  6  5]\n",
      " [ 6 13 12 10]]\n",
      "[[False False  True  True]\n",
      " [False  True  True  True]]\n",
      "[[False False False False]\n",
      " [False  True  True  True]]\n",
      "[3.  6.5 6.  5. ]\n",
      "[4.5  5.75]\n"
     ]
    }
   ],
   "source": [
    "#Run the following code\n",
    "\n",
    "import numpy as np\n",
    "\n",
    "mat1 = np.array([[2, 5, 6, 5],[4, 8, 6, 5]])\n",
    "\n",
    "mean_mat1=np.mean(mat1, axis=0) #np.mean() used to find the mean of matrix/array.\n",
    "mean_mat2=np.mean(mat1, axis=1)\n",
    "\n",
    "cum_sum= np.cumsum(mat1, axis=1) #the axis is 1, it implies that the function need to be deployed across columns.\n",
    "cum_sum1= np.cumsum(mat1, axis=0) #the axis is 0, it implies that the function need to be deployed across rows.\n",
    "\n",
    "print(cum_sum)\n",
    "print(cum_sum1)\n",
    "\n",
    "#Considering mat1 is the data for literacy rates\n",
    "#cummulative sum of literacy rates of every quater each year is cum_sum\n",
    "#we will find out the quaters for which this sum is greater or equal to 8\n",
    "\n",
    "print(cum_sum>=8)\n",
    "print(cum_sum1>=8)\n",
    "\n",
    "print(mean_mat1)\n",
    "print(mean_mat2)\n"
   ]
  },
  {
   "cell_type": "code",
   "execution_count": 8,
   "metadata": {},
   "outputs": [
    {
     "name": "stdout",
     "output_type": "stream",
     "text": [
      "['A', 'C']\n",
      "[[0 4 0 0]\n",
      " [0 0 5 0]\n",
      " [0 0 0 6]\n",
      " [0 0 0 0]]\n",
      "[ 0  1  2  3  4  5  6 -7 -8 -9 10]\n",
      "[ 45  50 590  90]\n",
      "54\n"
     ]
    }
   ],
   "source": [
    "#Run the Following code\n",
    "\n",
    "import numpy as np\n",
    "\n",
    "new_arr=[]\n",
    "mat = np.array([['abc','A'],['def','B'],['ghi','C'],['jkl','D']])\n",
    "arr = np.array(['abc','dfe','ghi','kjl'])\n",
    " \n",
    "\n",
    "arr2 = np.array([90, 14, 24, 13, 13, 590, 0, 45, 16, 50]) #Find the top 4 maximun values\n",
    "arr2_max= np.argpartition(arr2, -4)[-4:]\n",
    "\n",
    "new_mat1= np.diag([4,5,6],1) \n",
    "arr1= np.arange(11)\n",
    "\n",
    " \n",
    "arr3 = np.array([10,55,22,3,6,44,9,54]) #Find the number nearest to 50\n",
    "nearest_to = 50\n",
    "\n",
    "\n",
    "for i in range(0,len(mat)):\n",
    "    if mat[i][0]==arr[i]:\n",
    "        new_arr.append(mat[i][1])\n",
    "        \n",
    "for i in range (0,11):\n",
    "    if arr1[i] in range(7,10):\n",
    "        arr1[i]=arr1[i]*(-1)\n",
    "\n",
    "\n",
    "\n",
    "print(new_arr)\n",
    "print(new_mat1)  \n",
    "print(arr1)\n",
    "print(arr2[arr2_max])\n",
    "print(arr3[np.abs(arr3-nearest_to).argmin()])\n"
   ]
  },
  {
   "cell_type": "code",
   "execution_count": 10,
   "metadata": {},
   "outputs": [
    {
     "name": "stdout",
     "output_type": "stream",
     "text": [
      "[ 0.   2.5  5.   7.5 10. ]\n"
     ]
    }
   ],
   "source": [
    "print(np.linspace(0, 10, 5, dtype = np.float64))"
   ]
  },
  {
   "cell_type": "code",
   "execution_count": 11,
   "metadata": {},
   "outputs": [
    {
     "name": "stdout",
     "output_type": "stream",
     "text": [
      "[0. 5.]\n"
     ]
    }
   ],
   "source": [
    "print(np.arange(0, 10, 5, dtype = np.float64))"
   ]
  },
  {
   "cell_type": "code",
   "execution_count": null,
   "metadata": {},
   "outputs": [],
   "source": []
  }
 ],
 "metadata": {
  "kernelspec": {
   "display_name": "Python 3",
   "language": "python",
   "name": "python3"
  },
  "language_info": {
   "codemirror_mode": {
    "name": "ipython",
    "version": 3
   },
   "file_extension": ".py",
   "mimetype": "text/x-python",
   "name": "python",
   "nbconvert_exporter": "python",
   "pygments_lexer": "ipython3",
   "version": "3.6.5"
  }
 },
 "nbformat": 4,
 "nbformat_minor": 2
}
